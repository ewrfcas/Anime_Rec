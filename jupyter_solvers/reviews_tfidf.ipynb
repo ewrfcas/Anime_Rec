{
 "cells": [
  {
   "cell_type": "code",
   "execution_count": 6,
   "metadata": {
    "pycharm": {
     "is_executing": true
    }
   },
   "outputs": [],
   "source": [
    "import matplotlib.pyplot as plt\n",
    "from glob import glob\n",
    "import collections\n",
    "from tqdm.notebook import tqdm\n",
    "import json"
   ]
  },
  {
   "cell_type": "code",
   "execution_count": 3,
   "metadata": {},
   "outputs": [
    {
     "name": "stdout",
     "output_type": "stream",
     "text": [
      "12254\n"
     ]
    }
   ],
   "source": [
    "# anime review lengths distribution\n",
    "anime_list = glob('../archive/reviews/*.json')\n",
    "print(len(anime_list))"
   ]
  },
  {
   "cell_type": "code",
   "execution_count": 3,
   "metadata": {},
   "outputs": [
    {
     "name": "stderr",
     "output_type": "stream",
     "text": [
      "100%|██████████| 12254/12254 [00:08<00:00, 1402.71it/s]"
     ]
    },
    {
     "name": "stdout",
     "output_type": "stream",
     "text": [
      "0\n"
     ]
    },
    {
     "name": "stderr",
     "output_type": "stream",
     "text": [
      "\n"
     ]
    }
   ],
   "source": [
    "import json\n",
    "from tqdm import tqdm\n",
    "\n",
    "reviews_all = []\n",
    "wrong_num = 0\n",
    "wrong_list = []\n",
    "for a in tqdm(anime_list):\n",
    "    try:\n",
    "        reviews_all.extend(json.load(open(a))['reviews'])\n",
    "    except:\n",
    "        try:\n",
    "            reviews_all.extend(json.load(open(a, encoding='ISO-8859-1'))['reviews'])\n",
    "        except Exception as e:\n",
    "            wrong_num+=1\n",
    "            wrong_list.append(a)\n",
    "#             print('Wrong in', a, e)\n",
    "print(wrong_num)"
   ]
  },
  {
   "cell_type": "code",
   "execution_count": 4,
   "metadata": {},
   "outputs": [],
   "source": [
    "# load stop words\n",
    "stop_words = set()\n",
    "with open('../stop_words.txt') as f:\n",
    "    for line in f:\n",
    "        stop_words.add(line.strip())\n",
    "stop_words.add('’')\n",
    "stop_words.add('“')\n",
    "stop_words.add('\"')\n",
    "stop_words.add('”')\n",
    "stop_words.add('…')\n",
    "stop_words.add('–')\n",
    "stop_words.add('(')\n",
    "stop_words.add(')')\n",
    "stop_words.add('.')\n",
    "stop_words.add(',')\n",
    "stop_words.add('-')\n",
    "stop_words.add('\\'')\n",
    "stop_words.add('‘')\n",
    "stop_words.add('thi')\n",
    "stop_words.add('character')\n",
    "stop_words.add('wa')\n",
    "stop_words.add('ha')\n",
    "stop_words.add('anime')\n",
    "stop_words.add('episode')\n",
    "stop_words.add('animation')\n",
    "stop_words.add('movive')\n",
    "stop_words.add('film')"
   ]
  },
  {
   "cell_type": "code",
   "execution_count": 7,
   "metadata": {},
   "outputs": [
    {
     "data": {
      "application/vnd.jupyter.widget-view+json": {
       "model_id": "dba7ac36c3624f5ebe7b7eef17e4cb42",
       "version_major": 2,
       "version_minor": 0
      },
      "text/html": [
       "<p>Failed to display Jupyter Widget of type <code>HBox</code>.</p>\n",
       "<p>\n",
       "  If you're reading this message in the Jupyter Notebook or JupyterLab Notebook, it may mean\n",
       "  that the widgets JavaScript is still loading. If this message persists, it\n",
       "  likely means that the widgets JavaScript library is either not installed or\n",
       "  not enabled. See the <a href=\"https://ipywidgets.readthedocs.io/en/stable/user_install.html\">Jupyter\n",
       "  Widgets Documentation</a> for setup instructions.\n",
       "</p>\n",
       "<p>\n",
       "  If you're reading this message in another frontend (for example, a static\n",
       "  rendering on GitHub or <a href=\"https://nbviewer.jupyter.org/\">NBViewer</a>),\n",
       "  it may mean that your frontend doesn't currently support widgets.\n",
       "</p>\n"
      ],
      "text/plain": [
       "HBox(children=(FloatProgress(value=0.0, max=12254.0), HTML(value='')))"
      ]
     },
     "metadata": {},
     "output_type": "display_data"
    },
    {
     "name": "stdout",
     "output_type": "stream",
     "text": [
      "\n"
     ]
    }
   ],
   "source": [
    "total_tok_count = collections.defaultdict(int)\n",
    "anime_tok_count = {}\n",
    "for a in tqdm(anime_list):\n",
    "    try:\n",
    "        rev = json.load(open(a))['reviews']\n",
    "    except:\n",
    "        rev = json.load(open(a, encoding='ISO-8859-1'))['reviews']\n",
    "    rev = [r.strip('Helpful read more') for r in rev]\n",
    "    if len(rev)>0:\n",
    "        name = a.split('/')[-1]\n",
    "        anime_tok_count[name] = collections.defaultdict(int)\n",
    "    temp_tok = set()\n",
    "    for r in rev:\n",
    "        toks = r.split()\n",
    "        for t in toks:\n",
    "            t = t.strip(',.!?\"\\'“”‘’， ()[]:-').lower()\n",
    "            t = t.replace('’s','').replace('\\'s','').replace('‘s','')\n",
    "            if t==\"\" and not t.isdigit() and not t.isnumeric():\n",
    "                continue\n",
    "            if t not in stop_words:\n",
    "                temp_tok.add(t)\n",
    "                anime_tok_count[name][t] += 1\n",
    "                anime_tok_count[name]['TOTAL#LENGTH'] += 1\n",
    "    for t in temp_tok:\n",
    "        total_tok_count[t] += 1\n",
    "total_file_num = len(anime_tok_count)"
   ]
  },
  {
   "cell_type": "code",
   "execution_count": 8,
   "metadata": {},
   "outputs": [
    {
     "name": "stdout",
     "output_type": "stream",
     "text": [
      "7170\n",
      "427089\n"
     ]
    }
   ],
   "source": [
    "print(len(anime_tok_count))\n",
    "print(len(total_tok_count))"
   ]
  },
  {
   "cell_type": "code",
   "execution_count": 9,
   "metadata": {},
   "outputs": [
    {
     "data": {
      "application/vnd.jupyter.widget-view+json": {
       "model_id": "76d9cb0e593e44369068962ecbfd3a7f",
       "version_major": 2,
       "version_minor": 0
      },
      "text/html": [
       "<p>Failed to display Jupyter Widget of type <code>HBox</code>.</p>\n",
       "<p>\n",
       "  If you're reading this message in the Jupyter Notebook or JupyterLab Notebook, it may mean\n",
       "  that the widgets JavaScript is still loading. If this message persists, it\n",
       "  likely means that the widgets JavaScript library is either not installed or\n",
       "  not enabled. See the <a href=\"https://ipywidgets.readthedocs.io/en/stable/user_install.html\">Jupyter\n",
       "  Widgets Documentation</a> for setup instructions.\n",
       "</p>\n",
       "<p>\n",
       "  If you're reading this message in another frontend (for example, a static\n",
       "  rendering on GitHub or <a href=\"https://nbviewer.jupyter.org/\">NBViewer</a>),\n",
       "  it may mean that your frontend doesn't currently support widgets.\n",
       "</p>\n"
      ],
      "text/plain": [
       "HBox(children=(FloatProgress(value=0.0, max=7170.0), HTML(value='')))"
      ]
     },
     "metadata": {},
     "output_type": "display_data"
    },
    {
     "name": "stdout",
     "output_type": "stream",
     "text": [
      "\n"
     ]
    }
   ],
   "source": [
    "import numpy as np\n",
    "import json\n",
    "for name in tqdm(anime_tok_count):\n",
    "    review_tfidf = {}\n",
    "    for t in anime_tok_count[name]:\n",
    "        if t == 'TOTAL#LENGTH':\n",
    "            continue\n",
    "        tf_ = anime_tok_count[name][t] / (anime_tok_count[name]['TOTAL#LENGTH']+1)\n",
    "        idf_ = np.log(total_file_num / total_tok_count[t]+1)\n",
    "        tf_idf = tf_*idf_\n",
    "        review_tfidf[t] = tf_idf\n",
    "    review_tfidf = [(k,v) for k,v in review_tfidf.items()]\n",
    "    review_tfidf.sort(key=lambda x:x[1], reverse=True)\n",
    "    with open('../archive/reviews_tfidf/'+name,'w') as w:\n",
    "        json.dump(review_tfidf, w, ensure_ascii=False, indent=2)"
   ]
  },
  {
   "cell_type": "code",
   "execution_count": 33,
   "metadata": {},
   "outputs": [],
   "source": [
    "# mtcs = collections.defaultdict(int)\n",
    "# for name in anime_tok_count:\n",
    "#     for t in anime_tok_count[name]:\n",
    "#         mtcs[t]+=anime_tok_count[name][t]"
   ]
  },
  {
   "cell_type": "code",
   "execution_count": 34,
   "metadata": {},
   "outputs": [],
   "source": [
    "# mtcs = [(k,v) for k,v in mtcs.items()]\n",
    "# mtcs.sort(key=lambda x:x[1], reverse=True)"
   ]
  },
  {
   "cell_type": "code",
   "execution_count": 67,
   "metadata": {},
   "outputs": [
    {
     "data": {
      "application/vnd.jupyter.widget-view+json": {
       "model_id": "7308cdfcea464e00a06f4e1586497037",
       "version_major": 2,
       "version_minor": 0
      },
      "text/html": [
       "<p>Failed to display Jupyter Widget of type <code>HBox</code>.</p>\n",
       "<p>\n",
       "  If you're reading this message in the Jupyter Notebook or JupyterLab Notebook, it may mean\n",
       "  that the widgets JavaScript is still loading. If this message persists, it\n",
       "  likely means that the widgets JavaScript library is either not installed or\n",
       "  not enabled. See the <a href=\"https://ipywidgets.readthedocs.io/en/stable/user_install.html\">Jupyter\n",
       "  Widgets Documentation</a> for setup instructions.\n",
       "</p>\n",
       "<p>\n",
       "  If you're reading this message in another frontend (for example, a static\n",
       "  rendering on GitHub or <a href=\"https://nbviewer.jupyter.org/\">NBViewer</a>),\n",
       "  it may mean that your frontend doesn't currently support widgets.\n",
       "</p>\n"
      ],
      "text/plain": [
       "HBox(children=(FloatProgress(value=0.0, max=7170.0), HTML(value='')))"
      ]
     },
     "metadata": {},
     "output_type": "display_data"
    },
    {
     "name": "stdout",
     "output_type": "stream",
     "text": [
      "\n"
     ]
    }
   ],
   "source": [
    "review_tfidf = glob('../archive/reviews_tfidf/*.json')\n",
    "total_words = collections.defaultdict(int)\n",
    "for r in tqdm(review_tfidf):\n",
    "    d = json.load(open(r))\n",
    "    for dt in d:\n",
    "        total_words[dt[0]]+=1"
   ]
  },
  {
   "cell_type": "code",
   "execution_count": 68,
   "metadata": {},
   "outputs": [],
   "source": [
    "total_words = [(k,v) for k,v in total_words.items()]\n",
    "total_words.sort(key=lambda x:x[1], reverse=True)"
   ]
  },
  {
   "cell_type": "code",
   "execution_count": 69,
   "metadata": {},
   "outputs": [
    {
     "name": "stdout",
     "output_type": "stream",
     "text": [
      "401633\n"
     ]
    }
   ],
   "source": [
    "print(len(total_words))"
   ]
  },
  {
   "cell_type": "code",
   "execution_count": 71,
   "metadata": {},
   "outputs": [
    {
     "data": {
      "text/plain": [
       "[('protagonized', 3),\n",
       " ('excusably', 3),\n",
       " ('flipflop', 3),\n",
       " ('torino', 3),\n",
       " ('lewdity', 3),\n",
       " ('ecchi/yuri', 3),\n",
       " ('enganging', 3),\n",
       " ('re-discovery', 3),\n",
       " ('hairball', 3),\n",
       " ('&quot;should', 3),\n",
       " ('vaster', 3),\n",
       " ('coaltar', 3),\n",
       " ('turnt', 3),\n",
       " ('josei-drama', 3),\n",
       " ('f2', 3),\n",
       " ('charon', 3),\n",
       " ('lyne', 3),\n",
       " ('tadakoro', 3),\n",
       " ('kamijyo', 3),\n",
       " ('tsukiyo', 3),\n",
       " ('expedience', 3),\n",
       " ('placidity', 3),\n",
       " ('deity;', 3),\n",
       " ('off-handedly', 3),\n",
       " ('bakemongatari', 3),\n",
       " ('emi-intellectual', 3),\n",
       " ('*recommended', 3),\n",
       " ('p!ssed', 3),\n",
       " ('auburn', 3),\n",
       " ('nice...but', 3),\n",
       " ('renaissance-era', 3),\n",
       " ('non-expert', 3),\n",
       " ('i,ll', 3),\n",
       " ('prostrating', 3),\n",
       " ('attrative', 3),\n",
       " ('draw-in', 3),\n",
       " ('defraud', 3),\n",
       " ('quaalude', 3),\n",
       " ('how-and-tell', 3),\n",
       " ('tory.at', 3),\n",
       " ('romance,a', 3),\n",
       " ('flared', 3),\n",
       " ('pollo', 3),\n",
       " ('objeto', 3),\n",
       " ('joshu', 3),\n",
       " ('depthful', 3),\n",
       " ('ociocultural', 3),\n",
       " ('ignorancia', 3),\n",
       " ('inesperadamente', 3),\n",
       " ('resultó', 3),\n",
       " ('adentrarse', 3),\n",
       " ('cabello', 3),\n",
       " ('reflejo', 3),\n",
       " ('naturalmente', 3),\n",
       " ('piscina', 3),\n",
       " ('vocación', 3),\n",
       " ('eventualmente', 3),\n",
       " ('créanme', 3),\n",
       " ('importe', 3),\n",
       " ('ervir', 3),\n",
       " ('old-world', 3),\n",
       " ('cute-sy', 3),\n",
       " ('amrite', 3),\n",
       " ('parrotmon', 3),\n",
       " ('movie-goer', 3),\n",
       " ('2d;', 3),\n",
       " ('hyphen', 3),\n",
       " ('fuji-san', 3),\n",
       " ('lister', 3),\n",
       " ('pug', 3),\n",
       " ('post-pubescent', 3),\n",
       " ('battle-type', 3),\n",
       " ('forbearing', 3),\n",
       " ('androgyny', 3),\n",
       " ('torture-porn', 3),\n",
       " ('hard-asse', 3),\n",
       " ('anime,now', 3),\n",
       " ('meaby', 3),\n",
       " ('tooon', 3),\n",
       " ('cribbing', 3),\n",
       " ('understandability', 3),\n",
       " ('obby', 3),\n",
       " ('horrorific', 3),\n",
       " ('pésima', 3),\n",
       " ('kilómetro', 3),\n",
       " ('movida', 3),\n",
       " ('la…', 3),\n",
       " ('urda', 3),\n",
       " ('10-star', 3),\n",
       " ('hyperbolically', 3),\n",
       " ('nutshack', 3),\n",
       " ('imiler', 3),\n",
       " ('9)enjoyment', 3),\n",
       " ('boshi', 3),\n",
       " ('econd-long', 3),\n",
       " ('juunichi', 3),\n",
       " ('~possible', 3),\n",
       " ('hiroyasha', 3),\n",
       " ('8);', 3),\n",
       " ('ill-written', 3)]"
      ]
     },
     "execution_count": 71,
     "metadata": {},
     "output_type": "execute_result"
    }
   ],
   "source": [
    "total_words[80000:80100]"
   ]
  },
  {
   "cell_type": "code",
   "execution_count": null,
   "metadata": {},
   "outputs": [],
   "source": []
  }
 ],
 "metadata": {
  "kernelspec": {
   "display_name": "Python 3",
   "language": "python",
   "name": "python3"
  },
  "language_info": {
   "codemirror_mode": {
    "name": "ipython",
    "version": 3
   },
   "file_extension": ".py",
   "mimetype": "text/x-python",
   "name": "python",
   "nbconvert_exporter": "python",
   "pygments_lexer": "ipython3",
   "version": "3.6.4"
  }
 },
 "nbformat": 4,
 "nbformat_minor": 1
}
