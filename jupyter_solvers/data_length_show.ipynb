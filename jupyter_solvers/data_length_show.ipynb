{
 "cells": [
  {
   "cell_type": "code",
   "execution_count": 1,
   "metadata": {
    "pycharm": {
     "is_executing": false
    }
   },
   "outputs": [],
   "source": [
    "import matplotlib.pyplot as plt\n",
    "from glob import glob"
   ]
  },
  {
   "cell_type": "code",
   "execution_count": 2,
   "metadata": {},
   "outputs": [
    {
     "name": "stdout",
     "output_type": "stream",
     "text": [
      "12179\n"
     ]
    }
   ],
   "source": [
    "# anime review lengths distribution\n",
    "anime_list = glob('../archive/reviews/*.json')\n",
    "print(len(anime_list))"
   ]
  },
  {
   "cell_type": "code",
   "execution_count": 3,
   "metadata": {},
   "outputs": [
    {
     "name": "stderr",
     "output_type": "stream",
     "text": [
      "100%|██████████| 12179/12179 [00:08<00:00, 1461.83it/s]"
     ]
    },
    {
     "name": "stdout",
     "output_type": "stream",
     "text": [
      "80\n"
     ]
    },
    {
     "name": "stderr",
     "output_type": "stream",
     "text": [
      "\n"
     ]
    }
   ],
   "source": [
    "import json\n",
    "from tqdm import tqdm\n",
    "\n",
    "reviews_all = []\n",
    "wrong_num = 0\n",
    "for a in tqdm(anime_list):\n",
    "    try:\n",
    "        reviews_all.extend(json.load(open(a))['reviews'])\n",
    "    except:\n",
    "        try:\n",
    "            reviews_all.extend(json.load(open(a, encoding='ISO-8859-1'))['reviews'])\n",
    "        except Exception as e:\n",
    "            wrong_num+=1\n",
    "#             print('Wrong in', a, e)\n",
    "print(wrong_num)"
   ]
  },
  {
   "cell_type": "code",
   "execution_count": 4,
   "metadata": {},
   "outputs": [
    {
     "name": "stdout",
     "output_type": "stream",
     "text": [
      "129552\n"
     ]
    }
   ],
   "source": [
    "print(len(reviews_all))"
   ]
  },
  {
   "cell_type": "code",
   "execution_count": 6,
   "metadata": {},
   "outputs": [
    {
     "name": "stderr",
     "output_type": "stream",
     "text": [
      "100%|██████████| 129552/129552 [00:04<00:00, 32083.85it/s]\n"
     ]
    }
   ],
   "source": [
    "lengths = []\n",
    "for r in tqdm(reviews_all):\n",
    "    lengths.append(len(r.split()))"
   ]
  },
  {
   "cell_type": "code",
   "execution_count": 10,
   "metadata": {},
   "outputs": [
    {
     "data": {
      "image/png": "[encoded data removed]",
      "text/plain": [
       "<Figure size 432x288 with 1 Axes>"
      ]
     },
     "metadata": {},
     "output_type": "display_data"
    }
   ],
   "source": [
    "plt.hist([l for l in lengths if l<2000])\n",
    "plt.show()"
   ]
  },
  {
   "cell_type": "code",
   "execution_count": 15,
   "metadata": {},
   "outputs": [
    {
     "name": "stdout",
     "output_type": "stream",
     "text": [
      "25000\n"
     ]
    }
   ],
   "source": [
    "# lmdb review lengths distribution\n",
    "pos_list = glob('../aclImdb/train/pos/*.txt')\n",
    "neg_list = glob('../aclImdb/train/neg/*.txt')\n",
    "lmdb_list = pos_list+neg_list\n",
    "print(len(lmdb_list))"
   ]
  },
  {
   "cell_type": "code",
   "execution_count": 22,
   "metadata": {},
   "outputs": [
    {
     "name": "stderr",
     "output_type": "stream",
     "text": [
      "100%|██████████| 25000/25000 [00:01<00:00, 20545.83it/s]\n"
     ]
    }
   ],
   "source": [
    "lmdbs = []\n",
    "for l in tqdm(lmdb_list):\n",
    "    with open(l, 'r') as f:\n",
    "        x = f.readlines()\n",
    "        lmdbs.extend(x)"
   ]
  },
  {
   "cell_type": "code",
   "execution_count": 24,
   "metadata": {},
   "outputs": [
    {
     "data": {
      "image/png": "[encoded data removed]",
      "text/plain": [
       "<Figure size 432x288 with 1 Axes>"
      ]
     },
     "metadata": {},
     "output_type": "display_data"
    }
   ],
   "source": [
    "lengths2 = [len(l.split()) for l in lmdbs if len(l.split())<2000]\n",
    "plt.hist(lengths2)\n",
    "plt.show()"
   ]
  },
  {
   "cell_type": "code",
   "execution_count": null,
   "metadata": {},
   "outputs": [],
   "source": []
  }
 ],
 "metadata": {
  "kernelspec": {
   "display_name": "Python 3",
   "language": "python",
   "name": "python3"
  },
  "language_info": {
   "codemirror_mode": {
    "name": "ipython",
    "version": 3
   },
   "file_extension": ".py",
   "mimetype": "text/x-python",
   "name": "python",
   "nbconvert_exporter": "python",
   "pygments_lexer": "ipython3",
   "version": "3.6.4"
  }
 },
 "nbformat": 4,
 "nbformat_minor": 1
}
