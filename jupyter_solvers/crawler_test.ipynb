{
 "cells": [
  {
   "cell_type": "code",
   "execution_count": 1,
   "metadata": {
    "pycharm": {
     "is_executing": false
    }
   },
   "outputs": [],
   "source": [
    "import requests\n",
    "from bs4 import BeautifulSoup\n",
    "import xlwt\n",
    "import re\n",
    "\n",
    "\n",
    "def getHTMLText(url):\n",
    "    try:\n",
    "        r = requests.get(url)\n",
    "        r.raise_for_status()\n",
    "        r.encoding = r.apparent_encoding\n",
    "        return r.text\n",
    "    except:\n",
    "        return \"\""
   ]
  },
  {
   "cell_type": "code",
   "execution_count": 2,
   "metadata": {},
   "outputs": [],
   "source": [
    "for i in range(1, 100):\n",
    "    html = getHTMLText('https://myanimelist.net/anime/1/Cowboy_Bebop/reviews?p={}'.format(i))\n",
    "    soup = BeautifulSoup(html, 'html.parser')\n",
    "    reviews = soup.find_all(attrs={'class': 'spaceit textReadability word-break pt8 mt8'})\n",
    "    break\n",
    "#     print(i, len(reviews))\n",
    "#     if len(reviews) == 0:\n",
    "#         break"
   ]
  },
  {
   "cell_type": "code",
   "execution_count": 26,
   "metadata": {},
   "outputs": [],
   "source": [
    "def Filter(reviews):\n",
    "    rev_res = []\n",
    "    for r in reviews:\n",
    "        lines = r.text.split('\\n')\n",
    "        lines = [line.strip() for line in lines if len(line.strip())>0]\n",
    "        # filter words\n",
    "        filter_words = ('Overall','Story','Animation','Sound','Character','Enjoyment')\n",
    "        res = \"\"\n",
    "        for line in lines:\n",
    "            if not line.isdigit() and line not in filter_words:\n",
    "                res += (\" \" + line)\n",
    "        rev_res.append(res)\n",
    "        \n",
    "    return rev_res"
   ]
  },
  {
   "cell_type": "code",
   "execution_count": 27,
   "metadata": {},
   "outputs": [
    {
     "name": "stdout",
     "output_type": "stream",
     "text": [
      " People who know me know that I'm not a fan of episodic anime series unless they're either one season (12-14 episodes) long or a slice of life series. Why? They have a tendency to get boring, or repetitive. But all rules and preferences have exceptions. You know what? Cowboy Bebop is that exception. The story is set in a space western setting - a genre and setting I'm loving more and more for each show I watch that falls under the genre. We follow two bounty hunters, Spike and Jet, who own a ship called the Bebop. They travel the Solar system, chasing wanted criminals to earn money. Along the way, they also pick up two women; the debt-laden Faye Valentine and the playful kid and computer genius Edward (yes, Ed&rsquo;s a girl). Each episode brings about a new bounty which they chase after, and while that doesn't sound too exciting to watch 26 episodes in a row, you'll end up loving the show. All the different events makes for a certain degree of unpredictability, and you'll sometimes wonder how things will end. However, that alone is not enough to give the story the rating I've given it. So why have I given that rating? Let's continue... One of the things that elevate the show a bit above the rest is the manner in which the main cast's pasts are explored. It's not like one flashback episode and you understand everything about how they are today. In one episode you might get one piece, and then the next one in another episode, and it's not until the final three episodes of the show that everything falls in place. This way of executing it makes you want to watch another episode, so that you can find out more about the characters (some may say that this falls in under &quot;Character&quot;, but the manner in which the pasts are explored are more &quot;Story&quot; than &quot;Character&quot;, IMO). Now, that's so far a 9 for the story. Why did it deserve a 10? The answer is easy: the way they executed many scenes in the show. The contrasts which you get to see between, music, the setting of scenes and what's really happening just gives the story that extra edge deserving of a perfect score. The characters are all really good and interesting fellows. Though they every now and then reminded me of characters from other shows, they preserved that originality which gave a feel that they were, if not completely, then at least a little bit more real than most characters out there. The way their pasts intertwine with the future and how everything ends with them confronting and settling open ends from their pasts is also something that's impressive to watch. I don't really have anything more to say than &quot;perfect&quot;. The animation is, for a 90s anime, stunningly good. The detail put into backgrounds and surroundings is really good, and I also love how good lighting effects and shading are at times. All of Ed&rsquo;s strange movements are animated really nicely too. If there's something negative, it's the somewhat dull coloring (compared to today's standards), as well as poor effects when traveling in hyperspace. The soundtrack is also astounding! The music used for the show is so incredibly varied, and while keeping mostly to the more jazzy tunes, the soundtrack visits so many genres that it's hard to not like at least a few pieces. What I also loved is the way the music was used not only as a medium to go with and amplify the mood, but also as a contrast to what's happening in several scenes. All in all, it's really amazing. Don't have anything to say against voice acting and other sound effects either. All in all Cowboy Bebop is an anime that&rsquo;s in the top tier on the greatness scale, and a show I believe every anime fan should give a try. To 'Not Helpful' voters (and you 'Helpful' voters too): Feedback greatly appreciated =) Helpful read more\n"
     ]
    }
   ],
   "source": [
    "Filter(reviews)"
   ]
  },
  {
   "cell_type": "code",
   "execution_count": 64,
   "metadata": {},
   "outputs": [],
   "source": [
    "html = getHTMLText('https://myanimelist.net/anime/5621/')\n",
    "soup = BeautifulSoup(html, 'html.parser')\n",
    "names = soup.find_all(href=re.compile('https://myanimelist.net/anime/5621/'))"
   ]
  },
  {
   "cell_type": "code",
   "execution_count": 65,
   "metadata": {},
   "outputs": [
    {
     "name": "stdout",
     "output_type": "stream",
     "text": [
      "<link href=\"https://myanimelist.net/anime/5621/Violence_Gekiga_David_no_Hoshi\" rel=\"canonical\"/>\n"
     ]
    }
   ],
   "source": [
    "print(names[0])"
   ]
  },
  {
   "cell_type": "code",
   "execution_count": 66,
   "metadata": {},
   "outputs": [
    {
     "data": {
      "text/plain": [
       "'Violence_Gekiga_David_no_Hoshi'"
      ]
     },
     "execution_count": 66,
     "metadata": {},
     "output_type": "execute_result"
    }
   ],
   "source": [
    "names[0]['href'].split('/')[-1]"
   ]
  },
  {
   "cell_type": "code",
   "execution_count": 38,
   "metadata": {},
   "outputs": [],
   "source": [
    "import pandas as pd"
   ]
  },
  {
   "cell_type": "code",
   "execution_count": 39,
   "metadata": {},
   "outputs": [],
   "source": [
    "anime = pd.read_csv('./archive/anime.csv')"
   ]
  },
  {
   "cell_type": "code",
   "execution_count": 47,
   "metadata": {},
   "outputs": [
    {
     "data": {
      "text/plain": [
       "array([32281,  5114, 28977, ...,  5621,  6133, 26081])"
      ]
     },
     "execution_count": 47,
     "metadata": {},
     "output_type": "execute_result"
    }
   ],
   "source": [
    "anime['anime_id'].values"
   ]
  },
  {
   "cell_type": "code",
   "execution_count": 49,
   "metadata": {},
   "outputs": [
    {
     "data": {
      "text/html": [
       "<div>\n",
       "<style scoped>\n",
       "    .dataframe tbody tr th:only-of-type {\n",
       "        vertical-align: middle;\n",
       "    }\n",
       "\n",
       "    .dataframe tbody tr th {\n",
       "        vertical-align: top;\n",
       "    }\n",
       "\n",
       "    .dataframe thead th {\n",
       "        text-align: right;\n",
       "    }\n",
       "</style>\n",
       "<table border=\"1\" class=\"dataframe\">\n",
       "  <thead>\n",
       "    <tr style=\"text-align: right;\">\n",
       "      <th></th>\n",
       "      <th>anime_id</th>\n",
       "      <th>name</th>\n",
       "      <th>genre</th>\n",
       "      <th>type</th>\n",
       "      <th>episodes</th>\n",
       "      <th>rating</th>\n",
       "      <th>members</th>\n",
       "    </tr>\n",
       "  </thead>\n",
       "  <tbody>\n",
       "    <tr>\n",
       "      <th>0</th>\n",
       "      <td>32281</td>\n",
       "      <td>Kimi no Na wa.</td>\n",
       "      <td>Drama, Romance, School, Supernatural</td>\n",
       "      <td>Movie</td>\n",
       "      <td>1</td>\n",
       "      <td>9.37</td>\n",
       "      <td>200630</td>\n",
       "    </tr>\n",
       "    <tr>\n",
       "      <th>1</th>\n",
       "      <td>5114</td>\n",
       "      <td>Fullmetal Alchemist: Brotherhood</td>\n",
       "      <td>Action, Adventure, Drama, Fantasy, Magic, Mili...</td>\n",
       "      <td>TV</td>\n",
       "      <td>64</td>\n",
       "      <td>9.26</td>\n",
       "      <td>793665</td>\n",
       "    </tr>\n",
       "    <tr>\n",
       "      <th>2</th>\n",
       "      <td>28977</td>\n",
       "      <td>Gintama°</td>\n",
       "      <td>Action, Comedy, Historical, Parody, Samurai, S...</td>\n",
       "      <td>TV</td>\n",
       "      <td>51</td>\n",
       "      <td>9.25</td>\n",
       "      <td>114262</td>\n",
       "    </tr>\n",
       "    <tr>\n",
       "      <th>3</th>\n",
       "      <td>9253</td>\n",
       "      <td>Steins;Gate</td>\n",
       "      <td>Sci-Fi, Thriller</td>\n",
       "      <td>TV</td>\n",
       "      <td>24</td>\n",
       "      <td>9.17</td>\n",
       "      <td>673572</td>\n",
       "    </tr>\n",
       "    <tr>\n",
       "      <th>4</th>\n",
       "      <td>9969</td>\n",
       "      <td>Gintama&amp;#039;</td>\n",
       "      <td>Action, Comedy, Historical, Parody, Samurai, S...</td>\n",
       "      <td>TV</td>\n",
       "      <td>51</td>\n",
       "      <td>9.16</td>\n",
       "      <td>151266</td>\n",
       "    </tr>\n",
       "    <tr>\n",
       "      <th>...</th>\n",
       "      <td>...</td>\n",
       "      <td>...</td>\n",
       "      <td>...</td>\n",
       "      <td>...</td>\n",
       "      <td>...</td>\n",
       "      <td>...</td>\n",
       "      <td>...</td>\n",
       "    </tr>\n",
       "    <tr>\n",
       "      <th>12289</th>\n",
       "      <td>9316</td>\n",
       "      <td>Toushindai My Lover: Minami tai Mecha-Minami</td>\n",
       "      <td>Hentai</td>\n",
       "      <td>OVA</td>\n",
       "      <td>1</td>\n",
       "      <td>4.15</td>\n",
       "      <td>211</td>\n",
       "    </tr>\n",
       "    <tr>\n",
       "      <th>12290</th>\n",
       "      <td>5543</td>\n",
       "      <td>Under World</td>\n",
       "      <td>Hentai</td>\n",
       "      <td>OVA</td>\n",
       "      <td>1</td>\n",
       "      <td>4.28</td>\n",
       "      <td>183</td>\n",
       "    </tr>\n",
       "    <tr>\n",
       "      <th>12291</th>\n",
       "      <td>5621</td>\n",
       "      <td>Violence Gekiga David no Hoshi</td>\n",
       "      <td>Hentai</td>\n",
       "      <td>OVA</td>\n",
       "      <td>4</td>\n",
       "      <td>4.88</td>\n",
       "      <td>219</td>\n",
       "    </tr>\n",
       "    <tr>\n",
       "      <th>12292</th>\n",
       "      <td>6133</td>\n",
       "      <td>Violence Gekiga Shin David no Hoshi: Inma Dens...</td>\n",
       "      <td>Hentai</td>\n",
       "      <td>OVA</td>\n",
       "      <td>1</td>\n",
       "      <td>4.98</td>\n",
       "      <td>175</td>\n",
       "    </tr>\n",
       "    <tr>\n",
       "      <th>12293</th>\n",
       "      <td>26081</td>\n",
       "      <td>Yasuji no Pornorama: Yacchimae!!</td>\n",
       "      <td>Hentai</td>\n",
       "      <td>Movie</td>\n",
       "      <td>1</td>\n",
       "      <td>5.46</td>\n",
       "      <td>142</td>\n",
       "    </tr>\n",
       "  </tbody>\n",
       "</table>\n",
       "<p>12294 rows × 7 columns</p>\n",
       "</div>"
      ],
      "text/plain": [
       "       anime_id                                               name  \\\n",
       "0         32281                                     Kimi no Na wa.   \n",
       "1          5114                   Fullmetal Alchemist: Brotherhood   \n",
       "2         28977                                           Gintama°   \n",
       "3          9253                                        Steins;Gate   \n",
       "4          9969                                      Gintama&#039;   \n",
       "...         ...                                                ...   \n",
       "12289      9316       Toushindai My Lover: Minami tai Mecha-Minami   \n",
       "12290      5543                                        Under World   \n",
       "12291      5621                     Violence Gekiga David no Hoshi   \n",
       "12292      6133  Violence Gekiga Shin David no Hoshi: Inma Dens...   \n",
       "12293     26081                   Yasuji no Pornorama: Yacchimae!!   \n",
       "\n",
       "                                                   genre   type episodes  \\\n",
       "0                   Drama, Romance, School, Supernatural  Movie        1   \n",
       "1      Action, Adventure, Drama, Fantasy, Magic, Mili...     TV       64   \n",
       "2      Action, Comedy, Historical, Parody, Samurai, S...     TV       51   \n",
       "3                                       Sci-Fi, Thriller     TV       24   \n",
       "4      Action, Comedy, Historical, Parody, Samurai, S...     TV       51   \n",
       "...                                                  ...    ...      ...   \n",
       "12289                                             Hentai    OVA        1   \n",
       "12290                                             Hentai    OVA        1   \n",
       "12291                                             Hentai    OVA        4   \n",
       "12292                                             Hentai    OVA        1   \n",
       "12293                                             Hentai  Movie        1   \n",
       "\n",
       "       rating  members  \n",
       "0        9.37   200630  \n",
       "1        9.26   793665  \n",
       "2        9.25   114262  \n",
       "3        9.17   673572  \n",
       "4        9.16   151266  \n",
       "...       ...      ...  \n",
       "12289    4.15      211  \n",
       "12290    4.28      183  \n",
       "12291    4.88      219  \n",
       "12292    4.98      175  \n",
       "12293    5.46      142  \n",
       "\n",
       "[12294 rows x 7 columns]"
      ]
     },
     "execution_count": 49,
     "metadata": {},
     "output_type": "execute_result"
    }
   ],
   "source": [
    "anime"
   ]
  },
  {
   "cell_type": "code",
   "execution_count": null,
   "metadata": {},
   "outputs": [],
   "source": []
  }
 ],
 "metadata": {
  "kernelspec": {
   "display_name": "Python 3",
   "language": "python",
   "name": "python3"
  },
  "language_info": {
   "codemirror_mode": {
    "name": "ipython",
    "version": 3
   },
   "file_extension": ".py",
   "mimetype": "text/x-python",
   "name": "python",
   "nbconvert_exporter": "python",
   "pygments_lexer": "ipython3",
   "version": "3.6.4"
  }
 },
 "nbformat": 4,
 "nbformat_minor": 1
}
