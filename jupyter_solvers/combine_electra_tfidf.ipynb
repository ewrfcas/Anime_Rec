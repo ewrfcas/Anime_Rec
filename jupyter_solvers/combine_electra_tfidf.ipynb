{
 "cells": [
  {
   "cell_type": "code",
   "execution_count": 3,
   "metadata": {},
   "outputs": [
    {
     "name": "stdout",
     "output_type": "stream",
     "text": [
      "6574 7170\n"
     ]
    }
   ],
   "source": [
    "from glob import glob\n",
    "import json\n",
    "\n",
    "electra_outputs = glob('../archive/reviews_outputs/*')\n",
    "tfidf_outputs = glob('../archive/reviews_tfidf/*')\n",
    "print(len(electra_outputs), len(tfidf_outputs))"
   ]
  },
  {
   "cell_type": "code",
   "execution_count": 4,
   "metadata": {},
   "outputs": [
    {
     "name": "stdout",
     "output_type": "stream",
     "text": [
      "[['f00king', 0.26111177629066396], ['princess', 0.13509306314506886], ['pinkpine', 0.12036459785536878], ['f00k', 0.12036459785536878], ['ntr', 0.11572247750032481], ['luck;', 0.1042167343310379], ['h-manga', 0.09671278778012093], ['effort;', 0.09531321551929334], ['nympho', 0.0889237613737092], ['boyfriend', 0.08607021986071121], ['faps', 0.08386689402805328], ['preform', 0.0816081467421143], ['hentai', 0.080303421637608], ['nether', 0.07533000171779573], ['fapping', 0.06522406905208036], ['glossy', 0.06424444080772414], ['anal', 0.060636761977560724], ['maids', 0.05816700191374294], ['butler', 0.05275875860220402], ['fence', 0.0517452346613551], ['bust', 0.05026366251935546], ['busty', 0.050089170166372474], ['classified', 0.049467664746677596], ['partners', 0.048767708365128865], ['nuts', 0.047090557479988346], ['vanilla', 0.044597732552365356], ['reccomend', 0.04253067324021157], ['guys', 0.0424462006682553], ['overpowered', 0.04154576325884668], ['active', 0.039641796056857234], ['volumes', 0.039123943905150955], ['jealous', 0.037753968282739164], ['borderline', 0.037505840406403604], ['watch', 0.036505263949416986], ['switch', 0.035699686784120555], ['females', 0.03535675068151431], ['imo', 0.03375678527287844], ['sexual', 0.028563710701579842], ['lot', 0.02815690367728011], ['adult', 0.02793141511294096], ['department', 0.026992453886135716], ['putting', 0.02669691262336918], ['answer', 0.026400805208186724], ['acts', 0.025332444495258427], ['exception', 0.025239885887130394], ['impressive', 0.02449967268838839], ['coming', 0.02085086732877152], ['girls', 0.0189212299177315], ['scene', 0.016674198570123127], ['2', 0.01642053944887298], ['style', 0.01587440965372579], ['life', 0.01585863962279255], ['main', 0.01357721445307669], ['pretty', 0.013427051614750735], ['characters', 0.011643503649734547]]\n"
     ]
    }
   ],
   "source": [
    "with open(tfidf_outputs[0]) as f:\n",
    "    d1 = json.load(f)\n",
    "    print(d1)"
   ]
  },
  {
   "cell_type": "code",
   "execution_count": 5,
   "metadata": {},
   "outputs": [
    {
     "name": "stdout",
     "output_type": "stream",
     "text": [
      "{'pred_scores': [0.90576171875, 0.99853515625, 0.96533203125], 'word_count': [['watch', 2], ['fapping', 2], ['ntr', 2], ['nether', 2], ['imo', 2], ['hentai', 1], ['reccomend', 1], ['borderline', 1], ['switch', 1], ['preform', 1], ['jealous', 1], ['bust', 1], ['animation', 1], ['vanilla', 1], ['anal', 1], ['faps', 1], ['active', 1], ['glossy', 1], ['putting', 1], ['exception', 1], ['luck', 1]]}\n"
     ]
    }
   ],
   "source": [
    "with open(electra_outputs[0]) as f:\n",
    "    d2 = json.load(f)\n",
    "    print(d2)"
   ]
  },
  {
   "cell_type": "code",
   "execution_count": 10,
   "metadata": {},
   "outputs": [
    {
     "data": {
      "application/vnd.jupyter.widget-view+json": {
       "model_id": "b2743df6729f4f6e9cbc11e6d1204752",
       "version_major": 2,
       "version_minor": 0
      },
      "text/html": [
       "<p>Failed to display Jupyter Widget of type <code>HBox</code>.</p>\n",
       "<p>\n",
       "  If you're reading this message in the Jupyter Notebook or JupyterLab Notebook, it may mean\n",
       "  that the widgets JavaScript is still loading. If this message persists, it\n",
       "  likely means that the widgets JavaScript library is either not installed or\n",
       "  not enabled. See the <a href=\"https://ipywidgets.readthedocs.io/en/stable/user_install.html\">Jupyter\n",
       "  Widgets Documentation</a> for setup instructions.\n",
       "</p>\n",
       "<p>\n",
       "  If you're reading this message in another frontend (for example, a static\n",
       "  rendering on GitHub or <a href=\"https://nbviewer.jupyter.org/\">NBViewer</a>),\n",
       "  it may mean that your frontend doesn't currently support widgets.\n",
       "</p>\n"
      ],
      "text/plain": [
       "HBox(children=(FloatProgress(value=0.0, max=7170.0), HTML(value='')))"
      ]
     },
     "metadata": {},
     "output_type": "display_data"
    },
    {
     "name": "stdout",
     "output_type": "stream",
     "text": [
      "\n"
     ]
    }
   ],
   "source": [
    "# 将electra的outpt归一化后合并到tfidf中去\n",
    "tfidf_total = {}\n",
    "from tqdm.notebook import tqdm\n",
    "for t in tqdm(tfidf_outputs):\n",
    "    name = t.split('/')[-1].split('.')[0]\n",
    "    tfidf_total[name] = json.load(open(t))"
   ]
  },
  {
   "cell_type": "code",
   "execution_count": 11,
   "metadata": {},
   "outputs": [
    {
     "data": {
      "application/vnd.jupyter.widget-view+json": {
       "model_id": "39701f0bf5f94042adf2207e5a135be3",
       "version_major": 2,
       "version_minor": 0
      },
      "text/html": [
       "<p>Failed to display Jupyter Widget of type <code>HBox</code>.</p>\n",
       "<p>\n",
       "  If you're reading this message in the Jupyter Notebook or JupyterLab Notebook, it may mean\n",
       "  that the widgets JavaScript is still loading. If this message persists, it\n",
       "  likely means that the widgets JavaScript library is either not installed or\n",
       "  not enabled. See the <a href=\"https://ipywidgets.readthedocs.io/en/stable/user_install.html\">Jupyter\n",
       "  Widgets Documentation</a> for setup instructions.\n",
       "</p>\n",
       "<p>\n",
       "  If you're reading this message in another frontend (for example, a static\n",
       "  rendering on GitHub or <a href=\"https://nbviewer.jupyter.org/\">NBViewer</a>),\n",
       "  it may mean that your frontend doesn't currently support widgets.\n",
       "</p>\n"
      ],
      "text/plain": [
       "HBox(children=(FloatProgress(value=0.0, max=6574.0), HTML(value='')))"
      ]
     },
     "metadata": {},
     "output_type": "display_data"
    },
    {
     "name": "stdout",
     "output_type": "stream",
     "text": [
      "\n"
     ]
    }
   ],
   "source": [
    "for e in tqdm(electra_outputs):\n",
    "    name = e.split('/')[-1].split('.')[0]\n",
    "    if name not in tfidf_total:\n",
    "        print('ERROR', name)\n",
    "        continue\n",
    "    # 在2个输出中均出现的，electra的输出增强tfidf，如果该单词出现在动画名中则忽略\n",
    "    # 增强规则：min_max归一化后*1.5为倍率, [1+lambda(1.5)*min_max(electra)]*tfidf\n",
    "    tfidf_words = {}\n",
    "    for w in tfidf_total[name]:\n",
    "        tfidf_words[w[0].lower()] = w[1]\n",
    "    d = json.load(open(e))\n",
    "    if len(d['word_count'])<2:\n",
    "        continue\n",
    "    max_count = d['word_count'][0][1]\n",
    "    min_count = d['word_count'][-1][1]\n",
    "    for w in d['word_count']:\n",
    "        if w[0] not in tfidf_words or w[0] in name:\n",
    "            continue\n",
    "        boost = (w[1]-min_count+0.1)/(max_count-min_count+0.1)\n",
    "        boost *= 1.5\n",
    "        tfidf_words[w[0]] = tfidf_words[w[0]]+boost*tfidf_words[w[0]]\n",
    "    tfidf_words = [[k, v] for k,v in tfidf_words.items()]\n",
    "    tfidf_total[name] = tfidf_words"
   ]
  },
  {
   "cell_type": "code",
   "execution_count": 12,
   "metadata": {},
   "outputs": [
    {
     "data": {
      "application/vnd.jupyter.widget-view+json": {
       "model_id": "3ac2dae427b0443fbaae64eb1bd4e70a",
       "version_major": 2,
       "version_minor": 0
      },
      "text/html": [
       "<p>Failed to display Jupyter Widget of type <code>HBox</code>.</p>\n",
       "<p>\n",
       "  If you're reading this message in the Jupyter Notebook or JupyterLab Notebook, it may mean\n",
       "  that the widgets JavaScript is still loading. If this message persists, it\n",
       "  likely means that the widgets JavaScript library is either not installed or\n",
       "  not enabled. See the <a href=\"https://ipywidgets.readthedocs.io/en/stable/user_install.html\">Jupyter\n",
       "  Widgets Documentation</a> for setup instructions.\n",
       "</p>\n",
       "<p>\n",
       "  If you're reading this message in another frontend (for example, a static\n",
       "  rendering on GitHub or <a href=\"https://nbviewer.jupyter.org/\">NBViewer</a>),\n",
       "  it may mean that your frontend doesn't currently support widgets.\n",
       "</p>\n"
      ],
      "text/plain": [
       "HBox(children=(FloatProgress(value=0.0, max=7170.0), HTML(value='')))"
      ]
     },
     "metadata": {},
     "output_type": "display_data"
    },
    {
     "name": "stdout",
     "output_type": "stream",
     "text": [
      "\n"
     ]
    }
   ],
   "source": [
    "# 统计词频\n",
    "import collections\n",
    "word_count = collections.defaultdict(int)\n",
    "for name in tqdm(tfidf_total):\n",
    "    for w in tfidf_total[name]:\n",
    "        word_count[w[0]]+=1"
   ]
  },
  {
   "cell_type": "code",
   "execution_count": 13,
   "metadata": {},
   "outputs": [
    {
     "name": "stdout",
     "output_type": "stream",
     "text": [
      "427089\n"
     ]
    }
   ],
   "source": [
    "word_count = [(k, v) for k, v in word_count.items()]\n",
    "word_count.sort(key=lambda x: x[1], reverse=True)\n",
    "print(len(word_count))"
   ]
  },
  {
   "cell_type": "code",
   "execution_count": 14,
   "metadata": {},
   "outputs": [],
   "source": [
    "max_rev_toks = 70000\n",
    "word_count = word_count[:max_rev_toks]"
   ]
  },
  {
   "cell_type": "code",
   "execution_count": 17,
   "metadata": {},
   "outputs": [],
   "source": [
    "review_word_map = {}\n",
    "for i, w in enumerate(word_count):\n",
    "    review_word_map[w[0]] = i\n",
    "with open('../archive/review_word_map.json','w') as w:\n",
    "    json.dump(review_word_map, w)"
   ]
  },
  {
   "cell_type": "code",
   "execution_count": 20,
   "metadata": {},
   "outputs": [
    {
     "data": {
      "application/vnd.jupyter.widget-view+json": {
       "model_id": "5d9e5c867f2249f7b4c5678e96536e3b",
       "version_major": 2,
       "version_minor": 0
      },
      "text/html": [
       "<p>Failed to display Jupyter Widget of type <code>HBox</code>.</p>\n",
       "<p>\n",
       "  If you're reading this message in the Jupyter Notebook or JupyterLab Notebook, it may mean\n",
       "  that the widgets JavaScript is still loading. If this message persists, it\n",
       "  likely means that the widgets JavaScript library is either not installed or\n",
       "  not enabled. See the <a href=\"https://ipywidgets.readthedocs.io/en/stable/user_install.html\">Jupyter\n",
       "  Widgets Documentation</a> for setup instructions.\n",
       "</p>\n",
       "<p>\n",
       "  If you're reading this message in another frontend (for example, a static\n",
       "  rendering on GitHub or <a href=\"https://nbviewer.jupyter.org/\">NBViewer</a>),\n",
       "  it may mean that your frontend doesn't currently support widgets.\n",
       "</p>\n"
      ],
      "text/plain": [
       "HBox(children=(FloatProgress(value=0.0, max=7170.0), HTML(value='')))"
      ]
     },
     "metadata": {},
     "output_type": "display_data"
    },
    {
     "name": "stdout",
     "output_type": "stream",
     "text": [
      "\n"
     ]
    }
   ],
   "source": [
    "filter_review_words = {}\n",
    "for name in tqdm(tfidf_total):\n",
    "    df = []\n",
    "    for w in tfidf_total[name]:\n",
    "        if w[0] not in review_word_map:\n",
    "            continue\n",
    "        df.append(w)\n",
    "    df.sort(key=lambda x:x[1], reverse=True)\n",
    "    filter_review_words[name] = df"
   ]
  },
  {
   "cell_type": "code",
   "execution_count": 21,
   "metadata": {},
   "outputs": [],
   "source": [
    "with open('../archive/review_data.json','w') as w:\n",
    "    json.dump(filter_review_words, w)"
   ]
  },
  {
   "cell_type": "code",
   "execution_count": 26,
   "metadata": {},
   "outputs": [],
   "source": [
    "with open('../archive/reviews_tfidf/8291_Ojousama_wa_H_ga_Osuki__The_Animation.json') as f:\n",
    "    d = json.load(f)"
   ]
  },
  {
   "cell_type": "code",
   "execution_count": 32,
   "metadata": {},
   "outputs": [
    {
     "data": {
      "text/plain": [
       "[['princess', 0.13509306314506886],\n",
       " ['pinkpine', 0.12036459785536878],\n",
       " ['ntr', 0.11572247750032481],\n",
       " ['luck;', 0.1042167343310379],\n",
       " ['h-manga', 0.09671278778012093],\n",
       " ['effort;', 0.09531321551929334],\n",
       " ['nympho', 0.0889237613737092],\n",
       " ['boyfriend', 0.08607021986071121],\n",
       " ['faps', 0.08386689402805328],\n",
       " ['preform', 0.0816081467421143]]"
      ]
     },
     "execution_count": 32,
     "metadata": {},
     "output_type": "execute_result"
    }
   ],
   "source": [
    "d = [w for w in d if w[0]!='f00king' and w[0]!='f00k']\n",
    "d[:10]"
   ]
  },
  {
   "cell_type": "code",
   "execution_count": 33,
   "metadata": {},
   "outputs": [
    {
     "data": {
      "text/plain": [
       "[['ntr', 0.289306193750812],\n",
       " ['nether', 0.18832500429448934],\n",
       " ['fapping', 0.1630601726302009],\n",
       " ['princess', 0.13509306314506886],\n",
       " ['luck;', 0.1042167343310379],\n",
       " ['h-manga', 0.09671278778012093],\n",
       " ['effort;', 0.09531321551929334],\n",
       " ['faps', 0.09530328866824236],\n",
       " ['preform', 0.09273653038876624],\n",
       " ['watch', 0.09126315987354247]]"
      ]
     },
     "execution_count": 33,
     "metadata": {},
     "output_type": "execute_result"
    }
   ],
   "source": [
    "filter_review_words['8291_Ojousama_wa_H_ga_Osuki__The_Animation'][:10]"
   ]
  },
  {
   "cell_type": "code",
   "execution_count": null,
   "metadata": {},
   "outputs": [],
   "source": []
  }
 ],
 "metadata": {
  "kernelspec": {
   "display_name": "Python 3",
   "language": "python",
   "name": "python3"
  },
  "language_info": {
   "codemirror_mode": {
    "name": "ipython",
    "version": 3
   },
   "file_extension": ".py",
   "mimetype": "text/x-python",
   "name": "python",
   "nbconvert_exporter": "python",
   "pygments_lexer": "ipython3",
   "version": "3.6.4"
  }
 },
 "nbformat": 4,
 "nbformat_minor": 1
}
